{
 "cells": [
  {
   "cell_type": "code",
   "execution_count": 1,
   "metadata": {
    "collapsed": true
   },
   "outputs": [],
   "source": [
    "import numpy\n",
    "import torch\n",
    "import torch.utils.data\n",
    "from torchvision import datasets, transforms"
   ]
  },
  {
   "cell_type": "code",
   "execution_count": 2,
   "metadata": {
    "collapsed": false
   },
   "outputs": [],
   "source": [
    "%load_ext autoreload\n",
    "%autoreload 2\n"
   ]
  },
  {
   "cell_type": "code",
   "execution_count": null,
   "metadata": {
    "collapsed": false
   },
   "outputs": [],
   "source": []
  },
  {
   "cell_type": "code",
   "execution_count": null,
   "metadata": {
    "collapsed": true
   },
   "outputs": [],
   "source": []
  },
  {
   "cell_type": "code",
   "execution_count": null,
   "metadata": {
    "collapsed": true
   },
   "outputs": [],
   "source": []
  },
  {
   "cell_type": "code",
   "execution_count": null,
   "metadata": {
    "collapsed": true
   },
   "outputs": [],
   "source": []
  },
  {
   "cell_type": "code",
   "execution_count": 3,
   "metadata": {
    "collapsed": true
   },
   "outputs": [],
   "source": [
    "class Params:\n",
    "    def __init__(self):\n",
    "        self.batch_size = 64\n",
    "        self.num_batches = -1\n",
    "        self.num_samples = -1\n",
    "        self.n_z = 300\n",
    "        self.dim_h = 50\n",
    "        self.sigma = 1\n",
    "        self.LAMBDA = 0.1\n",
    "        self.lr = 1e-4\n",
    "        self.Diters = 1\n",
    "        self.n_channel = 1\n",
    "        self.x_size = 28\n",
    "        self.y_size = 28\n",
    "params = Params()"
   ]
  },
  {
   "cell_type": "code",
   "execution_count": null,
   "metadata": {
    "collapsed": false
   },
   "outputs": [],
   "source": []
  },
  {
   "cell_type": "code",
   "execution_count": 4,
   "metadata": {
    "collapsed": false
   },
   "outputs": [],
   "source": [
    "train_loader = torch.utils.data.DataLoader(\n",
    "    datasets.MNIST('../data', train=True, download=True,\n",
    "                   transform=transforms.ToTensor()),\n",
    "    batch_size=params.batch_size, shuffle=True)\n",
    "params.num_batches = len(train_loader)\n",
    "params.num_samples = params.num_batches * params.batch_size"
   ]
  },
  {
   "cell_type": "code",
   "execution_count": 5,
   "metadata": {
    "collapsed": false
   },
   "outputs": [
    {
     "name": "stdout",
     "output_type": "stream",
     "text": [
      "return model - decoder.cuda(), disc.cuda()\n"
     ]
    }
   ],
   "source": [
    "%aimport wgan\n",
    "from wgan import return_model\n",
    "decoder, disc = return_model(params)"
   ]
  },
  {
   "cell_type": "code",
   "execution_count": 6,
   "metadata": {
    "collapsed": true
   },
   "outputs": [],
   "source": [
    "#print(vae)"
   ]
  },
  {
   "cell_type": "code",
   "execution_count": 7,
   "metadata": {
    "collapsed": true
   },
   "outputs": [],
   "source": [
    "#print(disc)"
   ]
  },
  {
   "cell_type": "code",
   "execution_count": null,
   "metadata": {
    "collapsed": false
   },
   "outputs": [],
   "source": [
    "%aimport train_wgan\n",
    "from train_wgan import run_trainer"
   ]
  },
  {
   "cell_type": "code",
   "execution_count": null,
   "metadata": {
    "collapsed": false,
    "scrolled": false
   },
   "outputs": [
    {
     "name": "stdout",
     "output_type": "stream",
     "text": [
      "Epoch, G_loss, D_loss 1 -9.102483494207263 3.5562696577981114\n",
      "Epoch, G_loss, D_loss 2 -8.779815356247127 4.11730788834393\n",
      "Epoch, G_loss, D_loss 3 -8.671014247462153 4.1705778716132045\n",
      "Epoch, G_loss, D_loss 4 -8.642628694884479 4.176527975127101\n",
      "Epoch, G_loss, D_loss 5 -8.626998436637223 4.170216425321996\n",
      "Epoch, G_loss, D_loss 6 -8.690388981252909 4.078426140360534\n",
      "Epoch, G_loss, D_loss 7 -8.732087345793843 3.88780240342021\n",
      "Epoch, G_loss, D_loss 8 -8.726588271558285 3.724244698882103\n",
      "Epoch, G_loss, D_loss 9 -8.732908722013235 3.553788799792528\n",
      "Epoch, G_loss, D_loss 10 -8.750389384105802 3.3531173933297396\n",
      "Epoch, G_loss, D_loss 11 -8.815376352518797 3.140597201883793\n",
      "Epoch, G_loss, D_loss 12 -8.865484446287155 2.9209166383370757\n",
      "Epoch, G_loss, D_loss 13 -8.879767837934196 2.7332267379388213\n",
      "Epoch, G_loss, D_loss 14 -8.903596254996955 2.5673018526285887\n",
      "Epoch, G_loss, D_loss 15 -8.925281638279557 2.3868205472826958\n",
      "Epoch, G_loss, D_loss 16 -8.930304322391748 2.2295197919011116\n",
      "Epoch, G_loss, D_loss 17 -8.96151519101113 2.085650423541665\n",
      "Epoch, G_loss, D_loss 18 -8.946215320378542 1.9804745372384787\n",
      "Epoch, G_loss, D_loss 19 -8.95546899549663 1.9109367551282048\n",
      "Epoch, G_loss, D_loss 20 -8.944907049648464 1.848345635458827\n",
      "Epoch, G_loss, D_loss 21 -8.953787855803967 1.750514367595315\n",
      "Epoch, G_loss, D_loss 22 -8.99633574206382 1.651631142012775\n",
      "Epoch, G_loss, D_loss 23 -8.993198257870972 1.5537426890805364\n",
      "Epoch, G_loss, D_loss 24 -8.95077723171562 1.4465140467509627\n",
      "Epoch, G_loss, D_loss 25 -8.950565078295767 1.3407702501863241\n",
      "Epoch, G_loss, D_loss 26 -8.974212436005473 1.228747982531786\n",
      "Epoch, G_loss, D_loss 27 -8.976207641884685 1.1256580278277397\n",
      "Epoch, G_loss, D_loss 28 -9.003659263253212 1.0227952301502228\n",
      "Epoch, G_loss, D_loss 29 -9.045829180628061 0.9202165920287371\n",
      "Epoch, G_loss, D_loss 30 -9.028618792071939 0.855368060991168\n",
      "Epoch, G_loss, D_loss 31 -9.049446506425738 0.7834987519308925\n",
      "Epoch, G_loss, D_loss 32 -9.079194963909686 0.7128078900277615\n",
      "Epoch, G_loss, D_loss 33 -9.072940268553793 0.6507058162242174\n",
      "Epoch, G_loss, D_loss 34 -9.115086067467928 0.5988384634256363\n",
      "Epoch, G_loss, D_loss 35 -9.129245330579579 0.5692407041788101\n",
      "Epoch, G_loss, D_loss 36 -9.174059137701988 0.536466876976192\n",
      "Epoch, G_loss, D_loss 37 -9.187787514179945 0.5136923613026738\n",
      "Epoch, G_loss, D_loss 38 -9.19990301784128 0.488826060667634\n",
      "Epoch, G_loss, D_loss 39 -9.202861467376351 0.46839623898267746\n",
      "Epoch, G_loss, D_loss 40 -9.20591433905065 0.4521553162485361\n",
      "Epoch, G_loss, D_loss 41 -9.226305957883596 0.4466639719903469\n",
      "Epoch, G_loss, D_loss 42 -9.221679698675871 0.44399862084537745\n",
      "Epoch, G_loss, D_loss 43 -9.24015673622489 0.43587953317910433\n",
      "Epoch, G_loss, D_loss 44 -9.270735780708492 0.4220133535563946\n",
      "Epoch, G_loss, D_loss 45 -9.29106037132442 0.40906759444624186\n",
      "Epoch, G_loss, D_loss 46 -9.301123224198818 0.3999488214030862\n",
      "Epoch, G_loss, D_loss 47 -9.288993459194899 0.38563396595418453\n",
      "Epoch, G_loss, D_loss 48 -9.314036755822599 0.3747101202607155\n",
      "Epoch, G_loss, D_loss 49 -9.307790267281234 0.36593861784785986\n",
      "Epoch, G_loss, D_loss 50 -9.303475613705814 0.35273926332592964\n",
      "Epoch, G_loss, D_loss 51 -9.355653120204806 0.33822867926210165\n",
      "Epoch, G_loss, D_loss 52 -9.382509058341384 0.32953803706914186\n",
      "Epoch, G_loss, D_loss 53 -9.4156185509637 0.3259988222271204\n",
      "Epoch, G_loss, D_loss 54 -9.41280216909945 0.32475497014820576\n",
      "Epoch, G_loss, D_loss 55 -9.429592381231487 0.300415406934917\n",
      "Epoch, G_loss, D_loss 56 -9.421076659113169 0.30724408105015755\n",
      "Epoch, G_loss, D_loss 57 -9.44489727076143 0.2983442423865199\n",
      "Epoch, G_loss, D_loss 58 -9.422087182290852 0.2836120333522558\n",
      "Epoch, G_loss, D_loss 59 -9.440919189713895 0.27796363551169634\n",
      "Epoch, G_loss, D_loss 60 -9.460753325372934 0.28710232954472303\n",
      "Epoch, G_loss, D_loss 61 -9.431771766394377 0.2809785110875964\n",
      "Epoch, G_loss, D_loss 62 -9.426747011952102 0.2733628321439028\n",
      "Epoch, G_loss, D_loss 63 -9.398178946226835 0.2717810394242406\n",
      "Epoch, G_loss, D_loss 64 -9.398872777819633 0.26587693952023983\n",
      "Epoch, G_loss, D_loss 65 -9.447569509968162 0.26737585105001926\n",
      "Epoch, G_loss, D_loss 66 -9.451756699942052 0.25564227905124426\n"
     ]
    }
   ],
   "source": [
    "run_trainer(train_loader, disc, decoder, params)"
   ]
  },
  {
   "cell_type": "code",
   "execution_count": null,
   "metadata": {
    "collapsed": true
   },
   "outputs": [],
   "source": []
  }
 ],
 "metadata": {
  "kernelspec": {
   "display_name": "Python 3",
   "language": "python",
   "name": "python3"
  },
  "language_info": {
   "codemirror_mode": {
    "name": "ipython",
    "version": 3
   },
   "file_extension": ".py",
   "mimetype": "text/x-python",
   "name": "python",
   "nbconvert_exporter": "python",
   "pygments_lexer": "ipython3",
   "version": "3.6.0"
  }
 },
 "nbformat": 4,
 "nbformat_minor": 2
}
